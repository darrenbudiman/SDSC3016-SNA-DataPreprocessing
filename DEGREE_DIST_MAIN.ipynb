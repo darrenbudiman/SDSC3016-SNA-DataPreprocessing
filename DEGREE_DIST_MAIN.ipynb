{
  "nbformat": 4,
  "nbformat_minor": 0,
  "metadata": {
    "colab": {
      "provenance": []
    },
    "kernelspec": {
      "name": "python3",
      "display_name": "Python 3"
    },
    "language_info": {
      "name": "python"
    }
  },
  "cells": [
    {
      "cell_type": "code",
      "execution_count": 1,
      "metadata": {
        "id": "7RlpdCmgUihj"
      },
      "outputs": [],
      "source": [
        "import pandas as pd\n",
        "import networkx as nx"
      ]
    },
    {
      "cell_type": "code",
      "source": [
        "import matplotlib.pyplot as plt"
      ],
      "metadata": {
        "id": "D56yYTOOXtCE"
      },
      "execution_count": 2,
      "outputs": []
    },
    {
      "cell_type": "code",
      "source": [
        "!pip install powerlaw"
      ],
      "metadata": {
        "colab": {
          "base_uri": "https://localhost:8080/"
        },
        "id": "tJsu8VDyWcFq",
        "outputId": "5273c3ee-e762-4f7e-b4c9-2cd74e82fc55"
      },
      "execution_count": 3,
      "outputs": [
        {
          "output_type": "stream",
          "name": "stdout",
          "text": [
            "Looking in indexes: https://pypi.org/simple, https://us-python.pkg.dev/colab-wheels/public/simple/\n",
            "Collecting powerlaw\n",
            "  Downloading powerlaw-1.5-py3-none-any.whl (24 kB)\n",
            "Requirement already satisfied: numpy in /usr/local/lib/python3.8/dist-packages (from powerlaw) (1.22.4)\n",
            "Requirement already satisfied: mpmath in /usr/local/lib/python3.8/dist-packages (from powerlaw) (1.2.1)\n",
            "Requirement already satisfied: scipy in /usr/local/lib/python3.8/dist-packages (from powerlaw) (1.7.3)\n",
            "Requirement already satisfied: matplotlib in /usr/local/lib/python3.8/dist-packages (from powerlaw) (3.5.3)\n",
            "Requirement already satisfied: cycler>=0.10 in /usr/local/lib/python3.8/dist-packages (from matplotlib->powerlaw) (0.11.0)\n",
            "Requirement already satisfied: python-dateutil>=2.7 in /usr/local/lib/python3.8/dist-packages (from matplotlib->powerlaw) (2.8.2)\n",
            "Requirement already satisfied: fonttools>=4.22.0 in /usr/local/lib/python3.8/dist-packages (from matplotlib->powerlaw) (4.38.0)\n",
            "Requirement already satisfied: kiwisolver>=1.0.1 in /usr/local/lib/python3.8/dist-packages (from matplotlib->powerlaw) (1.4.4)\n",
            "Requirement already satisfied: pyparsing>=2.2.1 in /usr/local/lib/python3.8/dist-packages (from matplotlib->powerlaw) (3.0.9)\n",
            "Requirement already satisfied: pillow>=6.2.0 in /usr/local/lib/python3.8/dist-packages (from matplotlib->powerlaw) (7.1.2)\n",
            "Requirement already satisfied: packaging>=20.0 in /usr/local/lib/python3.8/dist-packages (from matplotlib->powerlaw) (23.0)\n",
            "Requirement already satisfied: six>=1.5 in /usr/local/lib/python3.8/dist-packages (from python-dateutil>=2.7->matplotlib->powerlaw) (1.15.0)\n",
            "Installing collected packages: powerlaw\n",
            "Successfully installed powerlaw-1.5\n"
          ]
        }
      ]
    },
    {
      "cell_type": "code",
      "source": [
        "import powerlaw"
      ],
      "metadata": {
        "id": "iaDmA63fWVf_"
      },
      "execution_count": 4,
      "outputs": []
    },
    {
      "cell_type": "code",
      "source": [
        "df = pd.read_excel(\"/content/weighted degree.xlsx\")"
      ],
      "metadata": {
        "id": "YnIpSWCrWVTb"
      },
      "execution_count": 5,
      "outputs": []
    },
    {
      "cell_type": "code",
      "source": [
        "df.head()"
      ],
      "metadata": {
        "colab": {
          "base_uri": "https://localhost:8080/",
          "height": 206
        },
        "id": "OF_oWD-cWpXj",
        "outputId": "4ce21a20-accc-45d9-8469-b451c4f14384"
      },
      "execution_count": 6,
      "outputs": [
        {
          "output_type": "execute_result",
          "data": {
            "text/plain": [
              "    Country                                          Gname  Weight\n",
              "0  Zimbabwe      Zimbabwe African Nationalist Union (ZANU)    13.0\n",
              "1  Zimbabwe  Mozambique National Resistance Movement (MNR)     8.0\n",
              "2  Zimbabwe                     Supporters of Joshua Nkomo     8.0\n",
              "3  Zimbabwe           Movement for Democratic Change (MDC)     3.0\n",
              "4  Zimbabwe                Zimbabwe African People's Union     3.0"
            ],
            "text/html": [
              "\n",
              "  <div id=\"df-77658bc5-980f-48c8-9372-281e353571f1\">\n",
              "    <div class=\"colab-df-container\">\n",
              "      <div>\n",
              "<style scoped>\n",
              "    .dataframe tbody tr th:only-of-type {\n",
              "        vertical-align: middle;\n",
              "    }\n",
              "\n",
              "    .dataframe tbody tr th {\n",
              "        vertical-align: top;\n",
              "    }\n",
              "\n",
              "    .dataframe thead th {\n",
              "        text-align: right;\n",
              "    }\n",
              "</style>\n",
              "<table border=\"1\" class=\"dataframe\">\n",
              "  <thead>\n",
              "    <tr style=\"text-align: right;\">\n",
              "      <th></th>\n",
              "      <th>Country</th>\n",
              "      <th>Gname</th>\n",
              "      <th>Weight</th>\n",
              "    </tr>\n",
              "  </thead>\n",
              "  <tbody>\n",
              "    <tr>\n",
              "      <th>0</th>\n",
              "      <td>Zimbabwe</td>\n",
              "      <td>Zimbabwe African Nationalist Union (ZANU)</td>\n",
              "      <td>13.0</td>\n",
              "    </tr>\n",
              "    <tr>\n",
              "      <th>1</th>\n",
              "      <td>Zimbabwe</td>\n",
              "      <td>Mozambique National Resistance Movement (MNR)</td>\n",
              "      <td>8.0</td>\n",
              "    </tr>\n",
              "    <tr>\n",
              "      <th>2</th>\n",
              "      <td>Zimbabwe</td>\n",
              "      <td>Supporters of Joshua Nkomo</td>\n",
              "      <td>8.0</td>\n",
              "    </tr>\n",
              "    <tr>\n",
              "      <th>3</th>\n",
              "      <td>Zimbabwe</td>\n",
              "      <td>Movement for Democratic Change (MDC)</td>\n",
              "      <td>3.0</td>\n",
              "    </tr>\n",
              "    <tr>\n",
              "      <th>4</th>\n",
              "      <td>Zimbabwe</td>\n",
              "      <td>Zimbabwe African People's Union</td>\n",
              "      <td>3.0</td>\n",
              "    </tr>\n",
              "  </tbody>\n",
              "</table>\n",
              "</div>\n",
              "      <button class=\"colab-df-convert\" onclick=\"convertToInteractive('df-77658bc5-980f-48c8-9372-281e353571f1')\"\n",
              "              title=\"Convert this dataframe to an interactive table.\"\n",
              "              style=\"display:none;\">\n",
              "        \n",
              "  <svg xmlns=\"http://www.w3.org/2000/svg\" height=\"24px\"viewBox=\"0 0 24 24\"\n",
              "       width=\"24px\">\n",
              "    <path d=\"M0 0h24v24H0V0z\" fill=\"none\"/>\n",
              "    <path d=\"M18.56 5.44l.94 2.06.94-2.06 2.06-.94-2.06-.94-.94-2.06-.94 2.06-2.06.94zm-11 1L8.5 8.5l.94-2.06 2.06-.94-2.06-.94L8.5 2.5l-.94 2.06-2.06.94zm10 10l.94 2.06.94-2.06 2.06-.94-2.06-.94-.94-2.06-.94 2.06-2.06.94z\"/><path d=\"M17.41 7.96l-1.37-1.37c-.4-.4-.92-.59-1.43-.59-.52 0-1.04.2-1.43.59L10.3 9.45l-7.72 7.72c-.78.78-.78 2.05 0 2.83L4 21.41c.39.39.9.59 1.41.59.51 0 1.02-.2 1.41-.59l7.78-7.78 2.81-2.81c.8-.78.8-2.07 0-2.86zM5.41 20L4 18.59l7.72-7.72 1.47 1.35L5.41 20z\"/>\n",
              "  </svg>\n",
              "      </button>\n",
              "      \n",
              "  <style>\n",
              "    .colab-df-container {\n",
              "      display:flex;\n",
              "      flex-wrap:wrap;\n",
              "      gap: 12px;\n",
              "    }\n",
              "\n",
              "    .colab-df-convert {\n",
              "      background-color: #E8F0FE;\n",
              "      border: none;\n",
              "      border-radius: 50%;\n",
              "      cursor: pointer;\n",
              "      display: none;\n",
              "      fill: #1967D2;\n",
              "      height: 32px;\n",
              "      padding: 0 0 0 0;\n",
              "      width: 32px;\n",
              "    }\n",
              "\n",
              "    .colab-df-convert:hover {\n",
              "      background-color: #E2EBFA;\n",
              "      box-shadow: 0px 1px 2px rgba(60, 64, 67, 0.3), 0px 1px 3px 1px rgba(60, 64, 67, 0.15);\n",
              "      fill: #174EA6;\n",
              "    }\n",
              "\n",
              "    [theme=dark] .colab-df-convert {\n",
              "      background-color: #3B4455;\n",
              "      fill: #D2E3FC;\n",
              "    }\n",
              "\n",
              "    [theme=dark] .colab-df-convert:hover {\n",
              "      background-color: #434B5C;\n",
              "      box-shadow: 0px 1px 3px 1px rgba(0, 0, 0, 0.15);\n",
              "      filter: drop-shadow(0px 1px 2px rgba(0, 0, 0, 0.3));\n",
              "      fill: #FFFFFF;\n",
              "    }\n",
              "  </style>\n",
              "\n",
              "      <script>\n",
              "        const buttonEl =\n",
              "          document.querySelector('#df-77658bc5-980f-48c8-9372-281e353571f1 button.colab-df-convert');\n",
              "        buttonEl.style.display =\n",
              "          google.colab.kernel.accessAllowed ? 'block' : 'none';\n",
              "\n",
              "        async function convertToInteractive(key) {\n",
              "          const element = document.querySelector('#df-77658bc5-980f-48c8-9372-281e353571f1');\n",
              "          const dataTable =\n",
              "            await google.colab.kernel.invokeFunction('convertToInteractive',\n",
              "                                                     [key], {});\n",
              "          if (!dataTable) return;\n",
              "\n",
              "          const docLinkHtml = 'Like what you see? Visit the ' +\n",
              "            '<a target=\"_blank\" href=https://colab.research.google.com/notebooks/data_table.ipynb>data table notebook</a>'\n",
              "            + ' to learn more about interactive tables.';\n",
              "          element.innerHTML = '';\n",
              "          dataTable['output_type'] = 'display_data';\n",
              "          await google.colab.output.renderOutput(dataTable, element);\n",
              "          const docLink = document.createElement('div');\n",
              "          docLink.innerHTML = docLinkHtml;\n",
              "          element.appendChild(docLink);\n",
              "        }\n",
              "      </script>\n",
              "    </div>\n",
              "  </div>\n",
              "  "
            ]
          },
          "metadata": {},
          "execution_count": 6
        }
      ]
    },
    {
      "cell_type": "code",
      "source": [
        "G = nx.from_pandas_edgelist(df, \"Country\", \"Gname\", create_using=nx.Graph())"
      ],
      "metadata": {
        "id": "slC9nWnjWpUI"
      },
      "execution_count": 7,
      "outputs": []
    },
    {
      "cell_type": "code",
      "source": [
        "Gdeg = [G.degree(n) + 1 for n in G.nodes]\n",
        "powerlaw.plot_ccdf(Gdeg)\n",
        "plt.xlabel(\"DEGREE\")\n",
        "plt.ylabel(\"CCDF\")\n",
        "plt.title(\"CCDF FOR TERRORIST GRAPH\")"
      ],
      "metadata": {
        "colab": {
          "base_uri": "https://localhost:8080/",
          "height": 316
        },
        "id": "zDwt6azcWpOn",
        "outputId": "a71b6fff-898c-4864-9ca6-74f5189f550b"
      },
      "execution_count": 8,
      "outputs": [
        {
          "output_type": "execute_result",
          "data": {
            "text/plain": [
              "Text(0.5, 1.0, 'CCDF FOR TERRORIST GRAPH')"
            ]
          },
          "metadata": {},
          "execution_count": 8
        },
        {
          "output_type": "display_data",
          "data": {
            "text/plain": [
              "<Figure size 432x288 with 1 Axes>"
            ],
            "image/png": "[encoded data removed]"
          },
          "metadata": {
            "needs_background": "light"
          }
        }
      ]
    },
    {
      "cell_type": "code",
      "source": [
        "fit = powerlaw.Fit(Gdeg)"
      ],
      "metadata": {
        "colab": {
          "base_uri": "https://localhost:8080/"
        },
        "id": "mXbNL6anYdBx",
        "outputId": "29e8ad1b-d065-4287-8281-5a8fba003b19"
      },
      "execution_count": 9,
      "outputs": [
        {
          "output_type": "stream",
          "name": "stdout",
          "text": [
            "Calculating best minimal value for power law fit\n",
            "xmin progress: 00%\rxmin progress: 01%\rxmin progress: 03%\rxmin progress: 04%\rxmin progress: 06%\rxmin progress: 07%\rxmin progress: 09%\rxmin progress: 10%\rxmin progress: 12%\rxmin progress: 13%\rxmin progress: 15%\rxmin progress: 16%\rxmin progress: 18%\rxmin progress: 20%\rxmin progress: 21%\rxmin progress: 23%\rxmin progress: 24%\rxmin progress: 26%\rxmin progress: 27%\rxmin progress: 29%\rxmin progress: 30%\rxmin progress: 32%\rxmin progress: 33%\rxmin progress: 35%\rxmin progress: 36%\rxmin progress: 38%\rxmin progress: 40%\rxmin progress: 41%\rxmin progress: 43%\rxmin progress: 44%\rxmin progress: 46%\rxmin progress: 47%\rxmin progress: 49%\rxmin progress: 50%\rxmin progress: 52%\rxmin progress: 53%\rxmin progress: 55%\rxmin progress: 56%\rxmin progress: 58%\rxmin progress: 60%\rxmin progress: 61%\rxmin progress: 63%\rxmin progress: 64%\rxmin progress: 66%\rxmin progress: 67%\rxmin progress: 69%\rxmin progress: 70%\rxmin progress: 72%\rxmin progress: 73%\rxmin progress: 75%\rxmin progress: 76%\rxmin progress: 78%\rxmin progress: 80%\rxmin progress: 81%\rxmin progress: 83%\rxmin progress: 84%\rxmin progress: 86%\rxmin progress: 87%\rxmin progress: 89%\rxmin progress: 90%\rxmin progress: 92%\rxmin progress: 93%\rxmin progress: 95%\rxmin progress: 96%\rxmin progress: 98%\r"
          ]
        }
      ]
    },
    {
      "cell_type": "code",
      "source": [
        "fig = fit.plot_ccdf(linewidth=2, label='Empirical Data')\n",
        "fit.power_law.plot_ccdf(ax=fig, color='r', linestyle='--', label='Power law fit')\n",
        "fit.lognormal.plot_ccdf(ax=fig, color='g', linestyle='-.', label='Lognormal fit')\n",
        "\n",
        "fig.set_ylabel(u\"CCDF\")\n",
        "fig.set_xlabel(\"Degree\")\n",
        "handles, labels = fig.get_legend_handles_labels()\n",
        "fig.legend(handles, labels, loc=3)"
      ],
      "metadata": {
        "colab": {
          "base_uri": "https://localhost:8080/",
          "height": 300
        },
        "id": "f0FkZnkGXmWW",
        "outputId": "5030d5df-7bf5-41ff-ffd9-68c4fda2c466"
      },
      "execution_count": 17,
      "outputs": [
        {
          "output_type": "execute_result",
          "data": {
            "text/plain": [
              "<matplotlib.legend.Legend at 0x7fbba34f9610>"
            ]
          },
          "metadata": {},
          "execution_count": 17
        },
        {
          "output_type": "display_data",
          "data": {
            "text/plain": [
              "<Figure size 432x288 with 1 Axes>"
            ],
            "image/png": "[encoded data removed]"
          },
          "metadata": {
            "needs_background": "light"
          }
        }
      ]
    },
    {
      "cell_type": "code",
      "source": [
        "R, p = fit.distribution_compare('power_law', 'lognormal')"
      ],
      "metadata": {
        "id": "IN_cKcF2XmSs"
      },
      "execution_count": 11,
      "outputs": []
    },
    {
      "cell_type": "code",
      "source": [
        "R"
      ],
      "metadata": {
        "colab": {
          "base_uri": "https://localhost:8080/"
        },
        "id": "PUMpEEhkXmPN",
        "outputId": "8c3c4aea-a7c0-4f9d-e569-4cedafa29bee"
      },
      "execution_count": 12,
      "outputs": [
        {
          "output_type": "execute_result",
          "data": {
            "text/plain": [
              "0.004002248444848089"
            ]
          },
          "metadata": {},
          "execution_count": 12
        }
      ]
    },
    {
      "cell_type": "code",
      "source": [
        "p"
      ],
      "metadata": {
        "colab": {
          "base_uri": "https://localhost:8080/"
        },
        "id": "ZGe_wdzqXmLv",
        "outputId": "3bc9fdeb-e9cb-4794-c82d-1fccc8261c5b"
      },
      "execution_count": 13,
      "outputs": [
        {
          "output_type": "execute_result",
          "data": {
            "text/plain": [
              "0.8516042146283721"
            ]
          },
          "metadata": {},
          "execution_count": 13
        }
      ]
    },
    {
      "cell_type": "code",
      "source": [
        "fig = fit.plot_ccdf(linewidth=2, label='Empirical Data')\n",
        "fit.exponential.plot_ccdf(ax=fig, color='r', linestyle='--', label='Power law fit')\n",
        "\n",
        "fig.set_ylabel(u\"CCDF\")\n",
        "fig.set_xlabel(\"In-degree\")\n",
        "handles, labels = fig.get_legend_handles_labels()\n",
        "fig.legend(handles, labels, loc=3)"
      ],
      "metadata": {
        "colab": {
          "base_uri": "https://localhost:8080/",
          "height": 300
        },
        "id": "QE6UDCOgXluP",
        "outputId": "faff45aa-9052-48ce-b797-0469436cf11c"
      },
      "execution_count": 14,
      "outputs": [
        {
          "output_type": "execute_result",
          "data": {
            "text/plain": [
              "<matplotlib.legend.Legend at 0x7fbba4577d00>"
            ]
          },
          "metadata": {},
          "execution_count": 14
        },
        {
          "output_type": "display_data",
          "data": {
            "text/plain": [
              "<Figure size 432x288 with 1 Axes>"
            ],
            "image/png": "[encoded data removed]"
          },
          "metadata": {
            "needs_background": "light"
          }
        }
      ]
    },
    {
      "cell_type": "code",
      "source": [
        "fig = fit.plot_ccdf(linewidth=2, label='Empirical Data')\n",
        "fit.truncated_power_law.plot_ccdf(ax=fig, color='r', linestyle='--', label='Truncated Power law fit')\n",
        "fit.exponential.plot_ccdf(ax=fig, color='g', linestyle='-.', label='Exponential')\n",
        "\n",
        "fig.set_ylabel(u\"CCDF\")\n",
        "fig.set_xlabel(\"Degree\")\n",
        "handles, labels = fig.get_legend_handles_labels()\n",
        "fig.legend(handles, labels, loc=3)"
      ],
      "metadata": {
        "colab": {
          "base_uri": "https://localhost:8080/",
          "height": 300
        },
        "id": "_nxTOv1eExSX",
        "outputId": "1587a0a4-0437-41d4-af06-793e3e1f3e5b"
      },
      "execution_count": 16,
      "outputs": [
        {
          "output_type": "execute_result",
          "data": {
            "text/plain": [
              "<matplotlib.legend.Legend at 0x7fbba390ab50>"
            ]
          },
          "metadata": {},
          "execution_count": 16
        },
        {
          "output_type": "display_data",
          "data": {
            "text/plain": [
              "<Figure size 432x288 with 1 Axes>"
            ],
            "image/png": "[encoded data removed]"
          },
          "metadata": {
            "needs_background": "light"
          }
        }
      ]
    },
    {
      "cell_type": "code",
      "source": [
        "R, p = fit.distribution_compare('power_law', 'truncated_power_law')"
      ],
      "metadata": {
        "colab": {
          "base_uri": "https://localhost:8080/"
        },
        "id": "YArrHeIZE4-D",
        "outputId": "b86c35a8-81bd-4522-9b2e-3294af1390e7"
      },
      "execution_count": 18,
      "outputs": [
        {
          "output_type": "stream",
          "name": "stderr",
          "text": [
            "Assuming nested distributions\n"
          ]
        }
      ]
    },
    {
      "cell_type": "code",
      "source": [
        "R"
      ],
      "metadata": {
        "colab": {
          "base_uri": "https://localhost:8080/"
        },
        "id": "2jp3llmEGHwE",
        "outputId": "6cede4ae-326c-4295-ba5b-3f9d1de53ebf"
      },
      "execution_count": 19,
      "outputs": [
        {
          "output_type": "execute_result",
          "data": {
            "text/plain": [
              "-1.5060268639851468"
            ]
          },
          "metadata": {},
          "execution_count": 19
        }
      ]
    },
    {
      "cell_type": "code",
      "source": [
        "p"
      ],
      "metadata": {
        "colab": {
          "base_uri": "https://localhost:8080/"
        },
        "id": "Y1F0FOlKGJN4",
        "outputId": "56dbdfe2-9265-46e4-c37a-07b2dc7ac4cf"
      },
      "execution_count": 20,
      "outputs": [
        {
          "output_type": "execute_result",
          "data": {
            "text/plain": [
              "0.08264751562332529"
            ]
          },
          "metadata": {},
          "execution_count": 20
        }
      ]
    },
    {
      "cell_type": "code",
      "source": [
        "R, p = fit.distribution_compare('lognormal', 'truncated_power_law')\n",
        "print(R,p)"
      ],
      "metadata": {
        "colab": {
          "base_uri": "https://localhost:8080/"
        },
        "id": "v1KIRmrLGUD5",
        "outputId": "a3de6bb4-bf2c-48eb-e176-84d16e9a96d1"
      },
      "execution_count": 22,
      "outputs": [
        {
          "output_type": "stream",
          "name": "stdout",
          "text": [
            "-1.510029112430014 0.11145614589189651\n"
          ]
        }
      ]
    },
    {
      "cell_type": "code",
      "source": [
        "R, p = fit.distribution_compare('exponential', 'truncated_power_law')\n",
        "print(R,p)"
      ],
      "metadata": {
        "colab": {
          "base_uri": "https://localhost:8080/"
        },
        "id": "hIuQyWb1HiH2",
        "outputId": "61b8dc75-426a-470d-8b65-c83b8fea02e8"
      },
      "execution_count": 23,
      "outputs": [
        {
          "output_type": "stream",
          "name": "stdout",
          "text": [
            "-134.59023359326468 6.083924031868098e-12\n"
          ]
        }
      ]
    }
  ]
}